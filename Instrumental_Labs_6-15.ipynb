{
 "cells": [
  {
   "cell_type": "markdown",
   "metadata": {
    "collapsed": false,
    "jupyter": {
     "outputs_hidden": false
    }
   },
   "source": [
    "**Тема 1. Введение в анализ данных с Python**"
   ]
  },
  {
   "cell_type": "markdown",
   "metadata": {
    "collapsed": false,
    "jupyter": {
     "outputs_hidden": false
    }
   },
   "source": [
    "## Задача 1: Понимание структуры данных\n",
    "\n",
    "Имеется список [12, 34, 56, 78]. Необходимо:\n",
    "\n",
    "Вывести второй элемент списка.\n",
    "Изменить третий элемент списка на 100.\n",
    "Вывести измененный список."
   ]
  },
  {
   "cell_type": "code",
   "execution_count": 2,
   "metadata": {
    "ExecuteTime": {
     "end_time": "2023-12-22T13:48:24.278432Z",
     "start_time": "2023-12-22T13:48:24.258505600Z"
    },
    "collapsed": false,
    "jupyter": {
     "outputs_hidden": false
    }
   },
   "outputs": [
    {
     "name": "stdout",
     "output_type": "stream",
     "text": [
      "34\n",
      "[12, 34, 100, 78]\n"
     ]
    }
   ],
   "source": [
    "# Создаем список\n",
    "\n",
    "array = [12, 34, 56, 78]\n",
    "\n",
    "# Выводим второй элемент (индексация начинается с 0)\n",
    "print(array[1])\n",
    "\n",
    "# Изменяем третий элемент на 100\n",
    "array[2] = 100\n",
    "\n",
    "# Выводим измененный список\n",
    "print(array)\n"
   ]
  },
  {
   "cell_type": "markdown",
   "metadata": {
    "collapsed": false,
    "jupyter": {
     "outputs_hidden": false
    }
   },
   "source": [
    "## Задача 2: Простая операция ввода-вывода\n",
    "\n",
    "Попросите пользователя ввести его имя и возраст, а затем выведите эти данные в форматированной строке."
   ]
  },
  {
   "cell_type": "code",
   "execution_count": 3,
   "metadata": {
    "ExecuteTime": {
     "end_time": "2023-12-22T13:48:35.073550400Z",
     "start_time": "2023-12-22T13:48:25.801911Z"
    },
    "collapsed": false,
    "jupyter": {
     "outputs_hidden": false
    }
   },
   "outputs": [
    {
     "name": "stdout",
     "output_type": "stream",
     "text": [
      " Gart 23\n"
     ]
    },
    {
     "name": "stdout",
     "output_type": "stream",
     "text": [
      "Привет, Gart! Тебе 23 лет.\n"
     ]
    }
   ],
   "source": [
    "# Получаем имя и возраст от пользователя\n",
    "name, age = input().split()\n",
    "\n",
    "# Выводим информацию\n",
    "print(f\"Привет, {name}! Тебе {age} лет.\")\n"
   ]
  },
  {
   "cell_type": "markdown",
   "metadata": {
    "collapsed": false,
    "jupyter": {
     "outputs_hidden": false
    }
   },
   "source": [
    "## Задача 3: Работа с переменными и простые вычисления\n",
    "\n",
    "Запросите у пользователя два числа. Вычислите их сумму и произведение, а затем выведите результаты."
   ]
  },
  {
   "cell_type": "code",
   "execution_count": 4,
   "metadata": {
    "ExecuteTime": {
     "end_time": "2023-12-22T13:48:41.234143300Z",
     "start_time": "2023-12-22T13:48:38.617843100Z"
    },
    "collapsed": false,
    "jupyter": {
     "outputs_hidden": false
    }
   },
   "outputs": [
    {
     "name": "stdout",
     "output_type": "stream",
     "text": [
      " 3 5\n"
     ]
    },
    {
     "name": "stdout",
     "output_type": "stream",
     "text": [
      "8.0 15.0\n"
     ]
    }
   ],
   "source": [
    "# Запрашиваем два числа\n",
    "x, y = map(float, input().split())\n",
    "\n",
    "# Вычисляем сумму и произведение\n",
    "p = x + y\n",
    "s = x * y\n",
    "\n",
    "# Выводим результаты\n",
    "print(p, s)\n"
   ]
  },
  {
   "cell_type": "markdown",
   "metadata": {
    "collapsed": false,
    "jupyter": {
     "outputs_hidden": false
    }
   },
   "source": [
    "## Задача 4: Использование условных операторов\n",
    "\n",
    "Напишите программу, которая определяет, является ли число, введенное пользователем, четным или нечетным."
   ]
  },
  {
   "cell_type": "code",
   "execution_count": 6,
   "metadata": {
    "ExecuteTime": {
     "end_time": "2023-12-22T13:48:46.493235100Z",
     "start_time": "2023-12-22T13:48:44.735239300Z"
    },
    "collapsed": false,
    "jupyter": {
     "outputs_hidden": false
    }
   },
   "outputs": [
    {
     "name": "stdout",
     "output_type": "stream",
     "text": [
      " 13\n"
     ]
    },
    {
     "name": "stdout",
     "output_type": "stream",
     "text": [
      "Число 13 нечетное.\n"
     ]
    }
   ],
   "source": [
    "# Запрашиваем число у пользователя\n",
    "num = int(input())\n",
    "\n",
    "# Определяем четность числа\n",
    "if num % 2 == 0:\n",
    "    print(f\"Число {num} четное.\")\n",
    "else:\n",
    "    print(f\"Число {num} нечетное.\")\n"
   ]
  },
  {
   "cell_type": "markdown",
   "metadata": {
    "collapsed": false,
    "jupyter": {
     "outputs_hidden": false
    }
   },
   "source": [
    "**Тема 2. Типы данных и операции для анализа данных**"
   ]
  },
  {
   "cell_type": "markdown",
   "metadata": {
    "collapsed": false,
    "jupyter": {
     "outputs_hidden": false
    }
   },
   "source": [
    "## Задача 1: Работа с различными типами данных\n",
    "\n",
    "Создайте переменные разных типов данных (число, строка, список) и выполните с ними следующие действия:\n",
    "\n",
    "Умножьте число на 2.\n",
    "Добавьте к строке еще одну строку.\n",
    "Добавьте новый элемент в список."
   ]
  },
  {
   "cell_type": "code",
   "execution_count": 8,
   "metadata": {
    "ExecuteTime": {
     "end_time": "2023-12-22T13:48:49.780938200Z",
     "start_time": "2023-12-22T13:48:49.745826300Z"
    },
    "collapsed": false,
    "jupyter": {
     "outputs_hidden": false
    }
   },
   "outputs": [
    {
     "name": "stdout",
     "output_type": "stream",
     "text": [
      "2\n",
      "two!\n",
      "[1, 2.0, 'three', [1, 2, 3]]\n"
     ]
    }
   ],
   "source": [
    "# Создаем переменные\n",
    "num = 1\n",
    "text = \"two\"\n",
    "array = [1, 2.0, \"three\"]\n",
    "\n",
    "# Умножаем число на 2\n",
    "double = num * 2\n",
    "\n",
    "# Добавляем к строке\n",
    "new_text = text + \"!\"\n",
    "\n",
    "# Добавляем элемент в список\n",
    "array.append([1, 2, 3])\n",
    "\n",
    "# Выводим результаты\n",
    "print(double, new_text, array, sep=\"\\n\")\n"
   ]
  },
  {
   "cell_type": "markdown",
   "metadata": {
    "collapsed": false,
    "jupyter": {
     "outputs_hidden": false
    }
   },
   "source": [
    "## Задача 2: Использование математических операторов\n",
    "\n",
    "Вычислите результат следующих операций для чисел 10 и 3: сложение, вычитание, умножение, деление, целочисленное деление, остаток от деления, возведение в степень."
   ]
  },
  {
   "cell_type": "code",
   "execution_count": 9,
   "metadata": {
    "ExecuteTime": {
     "end_time": "2023-12-22T13:48:51.824046300Z",
     "start_time": "2023-12-22T13:48:51.792015600Z"
    },
    "collapsed": false,
    "jupyter": {
     "outputs_hidden": false
    }
   },
   "outputs": [
    {
     "name": "stdout",
     "output_type": "stream",
     "text": [
      "Сложение: 13\n",
      "Вычитание: 7\n",
      "Умножение: 30\n",
      "Деление: 3.3333333333333335\n",
      "Целочисленное деление: 3\n",
      "Остаток от деления: 1\n",
      "Возведение в степень: 1000\n"
     ]
    }
   ],
   "source": [
    "# Определяем числа\n",
    "x = 10\n",
    "y = 3\n",
    "\n",
    "# Выполняем операции\n",
    "add = x + y\n",
    "sub = x - y\n",
    "multi = x * y\n",
    "div = x / y\n",
    "full_div = x // y\n",
    "res_of_div = x % y\n",
    "deg = x ** y\n",
    "\n",
    "# Выводим результаты\n",
    "print(f\"Сложение: {add}\")\n",
    "print(f\"Вычитание: {sub}\")\n",
    "print(f\"Умножение: {multi}\")\n",
    "print(f\"Деление: {div}\")\n",
    "print(f\"Целочисленное деление: {full_div}\")\n",
    "print(f\"Остаток от деления: {res_of_div}\")\n",
    "print(f\"Возведение в степень: {deg}\")\n"
   ]
  },
  {
   "cell_type": "markdown",
   "metadata": {
    "collapsed": false,
    "jupyter": {
     "outputs_hidden": false
    }
   },
   "source": [
    "## Задача 3: Работа с типами данных в Pandas\n",
    "\n",
    "Создайте DataFrame в Pandas, содержащий три колонки: числа, строки и логические значения. Выведите типы данных колонок."
   ]
  },
  {
   "cell_type": "code",
   "execution_count": 1,
   "metadata": {},
   "outputs": [
    {
     "name": "stdout",
     "output_type": "stream",
     "text": [
      "Requirement already satisfied: pandas in c:\\users\\asus\\appdata\\local\\programs\\python\\python312\\lib\\site-packages (2.2.2)\n",
      "Requirement already satisfied: numpy>=1.26.0 in c:\\users\\asus\\appdata\\local\\programs\\python\\python312\\lib\\site-packages (from pandas) (1.26.4)\n",
      "Requirement already satisfied: python-dateutil>=2.8.2 in c:\\users\\asus\\appdata\\roaming\\python\\python312\\site-packages (from pandas) (2.9.0.post0)\n",
      "Requirement already satisfied: pytz>=2020.1 in c:\\users\\asus\\appdata\\local\\programs\\python\\python312\\lib\\site-packages (from pandas) (2024.1)\n",
      "Requirement already satisfied: tzdata>=2022.7 in c:\\users\\asus\\appdata\\local\\programs\\python\\python312\\lib\\site-packages (from pandas) (2024.1)\n",
      "Requirement already satisfied: six>=1.5 in c:\\users\\asus\\appdata\\roaming\\python\\python312\\site-packages (from python-dateutil>=2.8.2->pandas) (1.16.0)\n",
      "Note: you may need to restart the kernel to use updated packages.\n"
     ]
    },
    {
     "name": "stderr",
     "output_type": "stream",
     "text": [
      "\n",
      "[notice] A new release of pip is available: 23.2.1 -> 24.0\n",
      "[notice] To update, run: python.exe -m pip install --upgrade pip\n"
     ]
    }
   ],
   "source": [
    "pip install pandas"
   ]
  },
  {
   "cell_type": "code",
   "execution_count": 15,
   "metadata": {
    "ExecuteTime": {
     "end_time": "2023-12-22T13:48:53.614014Z",
     "start_time": "2023-12-22T13:48:52.981363700Z"
    },
    "collapsed": false,
    "jupyter": {
     "outputs_hidden": false
    }
   },
   "outputs": [
    {
     "name": "stdout",
     "output_type": "stream",
     "text": [
      "Numbers      int64\n",
      "Strings     object\n",
      "Booleans      bool\n",
      "dtype: object\n"
     ]
    }
   ],
   "source": [
    "import pandas as pd\n",
    "\n",
    "# Создаем DataFrame\n",
    "data = {\n",
    "    'Numbers': [1, 2, 3],\n",
    "    'Strings': ['a', 'b', 'c'],\n",
    "    'Booleans': [True, False, True]\n",
    "}\n",
    "df = pd.DataFrame(data)\n",
    "\n",
    "# Выводим типы данных колонок\n",
    "print(df.dtypes)\n"
   ]
  },
  {
   "cell_type": "markdown",
   "metadata": {
    "collapsed": false,
    "jupyter": {
     "outputs_hidden": false
    }
   },
   "source": [
    "## Задача 4: Изучение операторов для работы с последовательностями\n",
    "\n",
    "Дан список [1, 2, 3, 4, 5]. Используйте срезы для выполнения следующих действий:\n",
    "\n",
    "Выведите первые три элемента списка.\n",
    "Выведите список в обратном порядке.\n",
    "Выведите каждый второй элемент списка."
   ]
  },
  {
   "cell_type": "code",
   "execution_count": 10,
   "metadata": {
    "ExecuteTime": {
     "end_time": "2023-12-22T13:48:56.066703700Z",
     "start_time": "2023-12-22T13:48:56.032015700Z"
    },
    "collapsed": false,
    "jupyter": {
     "outputs_hidden": false
    }
   },
   "outputs": [
    {
     "name": "stdout",
     "output_type": "stream",
     "text": [
      "[1, 2, 3]\n",
      "[5, 4, 3, 2, 1]\n",
      "[1, 3, 5]\n"
     ]
    }
   ],
   "source": [
    "# Создаем список\n",
    "array = [1, 2, 3, 4, 5]\n",
    "\n",
    "# Выводим первые три элемента\n",
    "print(array[:3])\n",
    "\n",
    "# Выводим список в обратном порядке\n",
    "print(array[::-1])\n",
    "\n",
    "# Выводим каждый второй элемент\n",
    "print(array[::2])\n"
   ]
  },
  {
   "cell_type": "markdown",
   "metadata": {
    "collapsed": false,
    "jupyter": {
     "outputs_hidden": false
    }
   },
   "source": [
    "**Тема 3: Основы программирования для анализа данных**"
   ]
  },
  {
   "cell_type": "markdown",
   "metadata": {
    "collapsed": false,
    "jupyter": {
     "outputs_hidden": false
    }
   },
   "source": [
    "## Задача 1: Использование условных операторов в анализе данных\n",
    "\n",
    "Напишите программу, которая определяет, является ли введенное число положительным, отрицательным или нулем."
   ]
  },
  {
   "cell_type": "code",
   "execution_count": 1,
   "metadata": {
    "ExecuteTime": {
     "end_time": "2023-12-22T13:49:00.142665600Z",
     "start_time": "2023-12-22T13:48:58.595799Z"
    }
   },
   "outputs": [
    {
     "name": "stdout",
     "output_type": "stream",
     "text": [
      " 6\n"
     ]
    },
    {
     "name": "stdout",
     "output_type": "stream",
     "text": [
      "Число положительное.\n"
     ]
    }
   ],
   "source": [
    "# Запрашиваем число у пользователя\n",
    "num = int(input())\n",
    "\n",
    "# Проверяем, является ли число положительным, отрицательным или равным нулю\n",
    "if num > 0:\n",
    "    print(\"Число положительное.\")\n",
    "elif num < 0:\n",
    "    print(\"Число отрицательное.\")\n",
    "else:\n",
    "    print(\"Число равно нулю.\")\n"
   ]
  },
  {
   "cell_type": "markdown",
   "metadata": {
    "collapsed": false,
    "jupyter": {
     "outputs_hidden": false
    }
   },
   "source": [
    "## Задача 2: Создание и использование функций\n",
    "\n",
    "Напишите функцию calculate_area, которая принимает радиус круга и возвращает его площадь."
   ]
  },
  {
   "cell_type": "code",
   "execution_count": 3,
   "metadata": {
    "ExecuteTime": {
     "end_time": "2023-12-22T13:49:03.859276100Z",
     "start_time": "2023-12-22T13:49:02.314753400Z"
    },
    "collapsed": false,
    "jupyter": {
     "outputs_hidden": false
    }
   },
   "outputs": [
    {
     "name": "stdout",
     "output_type": "stream",
     "text": [
      " 5\n"
     ]
    },
    {
     "name": "stdout",
     "output_type": "stream",
     "text": [
      "Площадь круга: 78.53981633974483\n"
     ]
    }
   ],
   "source": [
    "import math\n",
    "\n",
    "# Определяем функцию для расчета площади круга\n",
    "def calculate_area(r: int) -> float:\n",
    "    s = math.pi * r ** 2\n",
    "    return s\n",
    "    \n",
    "\n",
    "# Тестируем функцию\n",
    "r = int(input())\n",
    "s = calculate_area(r)\n",
    "print(f\"Площадь круга: {s}\")\n"
   ]
  },
  {
   "cell_type": "markdown",
   "metadata": {
    "collapsed": false,
    "jupyter": {
     "outputs_hidden": false
    }
   },
   "source": [
    "## Задача 3: Вложенные условные операторы\n",
    "\n",
    "Напишите программу, которая классифицирует возраст человека как \"ребенок\", \"подросток\", \"взрослый\" или \"пожилой\", исходя из введенного возраста."
   ]
  },
  {
   "cell_type": "code",
   "execution_count": 4,
   "metadata": {
    "ExecuteTime": {
     "end_time": "2023-12-22T13:49:07.912146Z",
     "start_time": "2023-12-22T13:49:05.680274Z"
    },
    "collapsed": false,
    "jupyter": {
     "outputs_hidden": false
    }
   },
   "outputs": [
    {
     "name": "stdout",
     "output_type": "stream",
     "text": [
      " 18\n"
     ]
    },
    {
     "name": "stdout",
     "output_type": "stream",
     "text": [
      "Взрослый\n"
     ]
    }
   ],
   "source": [
    "# Запрашиваем возраст\n",
    "age = int(input())\n",
    "\n",
    "# Классифицируем возраст\n",
    "if age < 18:\n",
    "    if age < 14:\n",
    "        print(\"Ребенок\")\n",
    "    else:\n",
    "        print(\"Подросток\")\n",
    "else:\n",
    "    if age > 65:\n",
    "        print(\"Пожилой\")\n",
    "    else:\n",
    "        print(\"Взрослый\")\n"
   ]
  },
  {
   "cell_type": "markdown",
   "metadata": {
    "collapsed": false,
    "jupyter": {
     "outputs_hidden": false
    }
   },
   "source": [
    "## Задача 4: Использование циклов для анализа данных\n",
    "\n",
    "Напишите программу, которая выводит квадраты чисел от 1 до 10 с использованием цикла for."
   ]
  },
  {
   "cell_type": "code",
   "execution_count": 20,
   "metadata": {
    "ExecuteTime": {
     "end_time": "2023-12-22T13:49:14.755618Z",
     "start_time": "2023-12-22T13:49:14.707871200Z"
    },
    "collapsed": false,
    "jupyter": {
     "outputs_hidden": false
    }
   },
   "outputs": [
    {
     "name": "stdout",
     "output_type": "stream",
     "text": [
      "Квадрат числа 1 равен 1\n",
      "Квадрат числа 2 равен 4\n",
      "Квадрат числа 3 равен 9\n",
      "Квадрат числа 4 равен 16\n",
      "Квадрат числа 5 равен 25\n",
      "Квадрат числа 6 равен 36\n",
      "Квадрат числа 7 равен 49\n",
      "Квадрат числа 8 равен 64\n",
      "Квадрат числа 9 равен 81\n",
      "Квадрат числа 10 равен 100\n"
     ]
    }
   ],
   "source": [
    "# Используем цикл for для вывода квадратов чисел от 1 до 10\n",
    "for i in range(1, 11):\n",
    "    print(f\"Квадрат числа {i} равен {i * i}\")\n"
   ]
  },
  {
   "cell_type": "markdown",
   "metadata": {
    "collapsed": false,
    "jupyter": {
     "outputs_hidden": false
    }
   },
   "source": [
    "**Тема 4. Циклы и итерации в анализе данных**"
   ]
  },
  {
   "cell_type": "markdown",
   "metadata": {
    "collapsed": false,
    "jupyter": {
     "outputs_hidden": false
    }
   },
   "source": [
    "## Задача 1: Использование цикла for для обработки данных\n",
    "\n",
    "Создайте список из пяти чисел. Используйте цикл for, чтобы вывести каждое число, умноженное на 2."
   ]
  },
  {
   "cell_type": "code",
   "execution_count": 11,
   "metadata": {
    "ExecuteTime": {
     "end_time": "2023-12-22T13:49:19.908702700Z",
     "start_time": "2023-12-22T13:49:19.870423Z"
    },
    "collapsed": false,
    "jupyter": {
     "outputs_hidden": false
    }
   },
   "outputs": [
    {
     "name": "stdout",
     "output_type": "stream",
     "text": [
      "2\n",
      "4\n",
      "6\n",
      "8\n",
      "10\n"
     ]
    }
   ],
   "source": [
    "# Создаем список чисел\n",
    "array = [1, 2, 3, 4, 5]\n",
    "\n",
    "# Используем цикл for для обработки и вывода каждого числа, умноженного на 2\n",
    "for i in array:\n",
    "    print(i * 2)\n"
   ]
  },
  {
   "cell_type": "markdown",
   "metadata": {
    "collapsed": false,
    "jupyter": {
     "outputs_hidden": false
    }
   },
   "source": [
    "## Задача 2: Применение цикла while\n",
    "\n",
    "Напишите программу, использующую цикл while, которая считает от 10 до 1, а затем выводит \"Старт!\"."
   ]
  },
  {
   "cell_type": "code",
   "execution_count": 18,
   "metadata": {
    "ExecuteTime": {
     "end_time": "2023-12-22T13:49:20.912137800Z",
     "start_time": "2023-12-22T13:49:20.874827100Z"
    },
    "collapsed": false,
    "jupyter": {
     "outputs_hidden": false
    }
   },
   "outputs": [
    {
     "name": "stdout",
     "output_type": "stream",
     "text": [
      "10\n",
      "9\n",
      "8\n",
      "7\n",
      "6\n",
      "5\n",
      "4\n",
      "3\n",
      "2\n",
      "1\n",
      "Старт!\n"
     ]
    }
   ],
   "source": [
    "# Начальное значение счетчика\n",
    "count = 10\n",
    "\n",
    "# Используем цикл while для обратного отсчета\n",
    "while count > 0:\n",
    "    print(count)\n",
    "    count -= 1\n",
    "else:\n",
    "    print(\"Старт!\")\n"
   ]
  },
  {
   "cell_type": "markdown",
   "metadata": {
    "collapsed": false,
    "jupyter": {
     "outputs_hidden": false
    }
   },
   "source": [
    "## Задача 3: Преобразование цикла for в while\n",
    "\n",
    "У вас есть следующий цикл for:\n",
    "\n",
    "```python\n",
    "for i in range(5):\n",
    "    print(i)\n",
    "```\n",
    "Преобразуйте его в цикл while, выполняющий ту же функцию."
   ]
  },
  {
   "cell_type": "code",
   "execution_count": 14,
   "metadata": {
    "ExecuteTime": {
     "end_time": "2023-12-22T13:49:21.616709800Z",
     "start_time": "2023-12-22T13:49:21.581697400Z"
    },
    "collapsed": false,
    "jupyter": {
     "outputs_hidden": false
    }
   },
   "outputs": [
    {
     "name": "stdout",
     "output_type": "stream",
     "text": [
      "0\n",
      "1\n",
      "2\n",
      "3\n",
      "4\n"
     ]
    }
   ],
   "source": [
    "# Начальное значение счетчика\n",
    "count = 0\n",
    "\n",
    "# Используем цикл while для имитации цикла for\n",
    "while count < 5:\n",
    "    print(count)\n",
    "    count += 1"
   ]
  },
  {
   "cell_type": "markdown",
   "metadata": {
    "collapsed": false,
    "jupyter": {
     "outputs_hidden": false
    }
   },
   "source": [
    "## Задача 4: Использование вложенных циклов\n",
    "\n",
    "Создайте вложенные циклы, где внешний цикл перебирает числа от 1 до 3, а внутренний цикл перебирает числа от 1 до 2. Выведите все комбинации этих чисел."
   ]
  },
  {
   "cell_type": "code",
   "execution_count": 17,
   "metadata": {
    "ExecuteTime": {
     "end_time": "2023-12-22T13:49:22.659733800Z",
     "start_time": "2023-12-22T13:49:22.623725100Z"
    },
    "collapsed": false,
    "jupyter": {
     "outputs_hidden": false
    }
   },
   "outputs": [
    {
     "name": "stdout",
     "output_type": "stream",
     "text": [
      "Комбинация: (1, 1)\n",
      "Комбинация: (1, 2)\n",
      "Комбинация: (2, 1)\n",
      "Комбинация: (2, 2)\n",
      "Комбинация: (3, 1)\n",
      "Комбинация: (3, 2)\n"
     ]
    }
   ],
   "source": [
    "# Внешний цикл\n",
    "for i in range(1, 4):\n",
    "    for j in range(1, 3):\n",
    "        print(f\"Комбинация: {i, j}\")\n"
   ]
  },
  {
   "cell_type": "markdown",
   "metadata": {
    "collapsed": false,
    "jupyter": {
     "outputs_hidden": false
    }
   },
   "source": [
    "**Тема 5. Работа со строками в контексте анализа данных**"
   ]
  },
  {
   "cell_type": "markdown",
   "metadata": {
    "collapsed": false,
    "jupyter": {
     "outputs_hidden": false
    }
   },
   "source": [
    "## Задача 1: Применение методов обработки строк в Pandas\n",
    "\n",
    "Дан DataFrame df, содержащий колонку 'Name' со значениями: [\"alice\", \"BOB\", \"Charlie\"]. Преобразуйте все строки в этой колонке к нижнему регистру."
   ]
  },
  {
   "cell_type": "code",
   "execution_count": 16,
   "metadata": {
    "ExecuteTime": {
     "end_time": "2023-12-22T13:49:24.219684200Z",
     "start_time": "2023-12-22T13:49:24.183175300Z"
    },
    "collapsed": false,
    "jupyter": {
     "outputs_hidden": false
    }
   },
   "outputs": [
    {
     "name": "stdout",
     "output_type": "stream",
     "text": [
      "      Name\n",
      "0    alice\n",
      "1      bob\n",
      "2  charlie\n"
     ]
    }
   ],
   "source": [
    "import pandas as pd\n",
    "\n",
    "# Создаем DataFrame\n",
    "data = {\n",
    "    'Name': [\"alice\", \"BOB\", \"Charlie\"]\n",
    "}\n",
    "df = pd.DataFrame(data)\n",
    "\n",
    "# Преобразуем все строки в колонке 'Name' к нижнему регистру\n",
    "df['Name'] = df['Name'].str.lower()\n",
    "\n",
    "# Выводим результат\n",
    "print(df)\n"
   ]
  },
  {
   "cell_type": "markdown",
   "metadata": {
    "collapsed": false,
    "jupyter": {
     "outputs_hidden": false
    }
   },
   "source": [
    "## Задача 2: Преобразование данных из чисел в строки и обратно в Pandas\n",
    "\n",
    "В DataFrame df с колонкой 'Age' с числовыми значениями, преобразуйте значения этой колонки в строки. Затем преобразуйте их обратно в числа."
   ]
  },
  {
   "cell_type": "code",
   "execution_count": 17,
   "metadata": {
    "ExecuteTime": {
     "end_time": "2023-12-22T13:49:25.149453500Z",
     "start_time": "2023-12-22T13:49:25.114584200Z"
    },
    "collapsed": false,
    "jupyter": {
     "outputs_hidden": false
    }
   },
   "outputs": [
    {
     "name": "stdout",
     "output_type": "stream",
     "text": [
      "   Age\n",
      "0   25\n",
      "1   30\n",
      "2   35\n"
     ]
    }
   ],
   "source": [
    "import pandas as pd\n",
    "\n",
    "# Создаем DataFrame\n",
    "data = {\n",
    "    'Age': [25, 30, 35]\n",
    "}\n",
    "df = pd.DataFrame(data)\n",
    "\n",
    "# Преобразуем числа в строки\n",
    "df['Age'] = df['Age'].astype(str)\n",
    "\n",
    "# Преобразуем строки обратно в числа\n",
    "df['Age'] = df['Age'].astype(int)\n",
    "\n",
    "# Выводим результат\n",
    "print(df)\n"
   ]
  },
  {
   "cell_type": "markdown",
   "metadata": {
    "collapsed": false,
    "jupyter": {
     "outputs_hidden": false
    }
   },
   "source": [
    "## Задача 3: Использование регулярных выражений для фильтрации данных\n",
    "\n",
    "Дан DataFrame df с колонкой 'Email'. Отфильтруйте строки, содержащие адреса электронной почты, заканчивающиеся на \".com\"."
   ]
  },
  {
   "cell_type": "code",
   "execution_count": 18,
   "metadata": {
    "ExecuteTime": {
     "end_time": "2023-12-22T13:49:26.286253500Z",
     "start_time": "2023-12-22T13:49:26.229238600Z"
    },
    "collapsed": false,
    "jupyter": {
     "outputs_hidden": false
    }
   },
   "outputs": [
    {
     "name": "stdout",
     "output_type": "stream",
     "text": [
      "                 Email\n",
      "0   example1@gmail.com\n",
      "2  example3@proton.com\n"
     ]
    }
   ],
   "source": [
    "import pandas as pd\n",
    "\n",
    "# Создаем DataFrame\n",
    "data = {\n",
    "    'Email': ['example1@gmail.com', 'example2@yandex.ru', 'example3@proton.com', 'example4@example.org']\n",
    "}\n",
    "df = pd.DataFrame(data)\n",
    "\n",
    "# Фильтруем строки, содержащие адреса электронной почты, заканчивающиеся на \".com\"\n",
    "filtered_df = df[df['Email'].str.endswith('.com')]\n",
    "\n",
    "# Выводим результат\n",
    "print(filtered_df)\n"
   ]
  },
  {
   "cell_type": "markdown",
   "metadata": {
    "collapsed": false,
    "jupyter": {
     "outputs_hidden": false
    }
   },
   "source": [
    "## Задача 4: Извлечение данных из строк с помощью регулярных выражений\n",
    "\n",
    "В DataFrame df содержится колонка 'Info' со строками в формате \"Name: [Имя], Age: [Возраст]\". Извлеките имя и возраст в отдельные колонки."
   ]
  },
  {
   "cell_type": "code",
   "execution_count": 19,
   "metadata": {
    "ExecuteTime": {
     "end_time": "2023-12-22T13:49:27.268310200Z",
     "start_time": "2023-12-22T13:49:27.234286700Z"
    },
    "collapsed": false,
    "jupyter": {
     "outputs_hidden": false
    }
   },
   "outputs": [
    {
     "name": "stdout",
     "output_type": "stream",
     "text": [
      "                     Info     Name Age\n",
      "0    Name: Alice, Age: 25    Alice  25\n",
      "1      Name: Bob, Age: 30      Bob  30\n",
      "2  Name: Charlie, Age: 35  Charlie  35\n"
     ]
    }
   ],
   "source": [
    "import pandas as pd\n",
    "\n",
    "# Создаем DataFrame\n",
    "data = {\n",
    "    'Info': ['Name: Alice, Age: 25', 'Name: Bob, Age: 30', 'Name: Charlie, Age: 35']\n",
    "}\n",
    "df = pd.DataFrame(data)\n",
    "\n",
    "# Извлекаем имя и возраст в отдельные колонки\n",
    "df[['Name', 'Age']] = df['Info'].str.extract(r'Name: (\\w+), Age: (\\d+)')\n",
    "\n",
    "# Выводим результат\n",
    "print(df)\n"
   ]
  },
  {
   "cell_type": "markdown",
   "metadata": {
    "collapsed": false,
    "jupyter": {
     "outputs_hidden": false
    }
   },
   "source": [
    "**Тема 6. Работа со списками и структурами данных в Pandas**"
   ]
  },
  {
   "cell_type": "markdown",
   "metadata": {
    "collapsed": false,
    "jupyter": {
     "outputs_hidden": false
    }
   },
   "source": [
    "## Задача 1: Создание и базовая манипуляция с Series в Pandas\n",
    "\n",
    "Создайте объект Series в Pandas из списка чисел [10, 20, 30, 40, 50]. Затем добавьте к этому объекту Series число 60."
   ]
  },
  {
   "cell_type": "code",
   "execution_count": 22,
   "metadata": {
    "ExecuteTime": {
     "end_time": "2023-12-22T19:20:14.069239600Z",
     "start_time": "2023-12-22T19:20:11.713397900Z"
    },
    "collapsed": false,
    "jupyter": {
     "outputs_hidden": false
    }
   },
   "outputs": [
    {
     "name": "stdout",
     "output_type": "stream",
     "text": [
      "0    10\n",
      "1    20\n",
      "2    30\n",
      "3    40\n",
      "4    50\n",
      "5    60\n",
      "dtype: int64\n"
     ]
    }
   ],
   "source": [
    "import pandas as pd\n",
    "\n",
    "# Создаем объект Series из списка чисел\n",
    "s = pd.Series([10, 20, 30, 40, 50])\n",
    "\n",
    "# Добавляем число 60\n",
    "s = s._append(pd.Series([60]), ignore_index=True)\n",
    "\n",
    "# Выводим результат\n",
    "print(s)\n"
   ]
  },
  {
   "cell_type": "markdown",
   "metadata": {
    "collapsed": false,
    "jupyter": {
     "outputs_hidden": false
    }
   },
   "source": [
    "## Задача 2: Работа с DataFrame в Pandas\n",
    "\n",
    "Создайте DataFrame в Pandas, содержащий две колонки: 'Name' и 'Age', с набором имен и возрастов соответственно. Добавьте к этому DataFrame новую строку."
   ]
  },
  {
   "cell_type": "code",
   "execution_count": 23,
   "metadata": {
    "ExecuteTime": {
     "end_time": "2023-12-22T19:20:45.359336100Z",
     "start_time": "2023-12-22T19:20:45.223232Z"
    },
    "collapsed": false,
    "jupyter": {
     "outputs_hidden": false
    }
   },
   "outputs": [
    {
     "name": "stdout",
     "output_type": "stream",
     "text": [
      "      Name  Age\n",
      "0    Alice   25\n",
      "1      Bob   30\n",
      "2  Charlie   35\n",
      "3    David   40\n"
     ]
    }
   ],
   "source": [
    "import pandas as pd\n",
    "\n",
    "# Создаем DataFrame\n",
    "data = {\n",
    "    'Name': ['Alice', 'Bob', 'Charlie'],\n",
    "    'Age': [25, 30, 35]\n",
    "}\n",
    "df = pd.DataFrame(data)\n",
    "\n",
    "# Создаем DataFrame для новой строки\n",
    "new_row = pd.DataFrame({'Name': ['David'], 'Age': [40]})\n",
    "\n",
    "# Добавляем новую строку\n",
    "df = df._append(new_row, ignore_index=True)\n",
    "\n",
    "# Выводим результат\n",
    "print(df)\n"
   ]
  },
  {
   "cell_type": "markdown",
   "metadata": {
    "collapsed": false,
    "jupyter": {
     "outputs_hidden": false
    }
   },
   "source": [
    "## Задача 3: Визуализация данных из Series в Pandas\n",
    "\n",
    "Используйте объект Series, содержащий некоторые числовые значения, для создания простого графика (например, линейного)."
   ]
  },
  {
   "cell_type": "code",
   "execution_count": 2,
   "metadata": {},
   "outputs": [
    {
     "name": "stdout",
     "output_type": "stream",
     "text": [
      "Collecting matplotlib\n",
      "  Obtaining dependency information for matplotlib from https://files.pythonhosted.org/packages/7d/ca/e7bd1876a341ed8c456095962a582696cac1691cb6e55bd5ead15a755c5d/matplotlib-3.8.4-cp312-cp312-win_amd64.whl.metadata\n",
      "  Downloading matplotlib-3.8.4-cp312-cp312-win_amd64.whl.metadata (5.9 kB)\n",
      "Collecting contourpy>=1.0.1 (from matplotlib)\n",
      "  Obtaining dependency information for contourpy>=1.0.1 from https://files.pythonhosted.org/packages/78/38/a046bb0ebce6f530175d434e7364149e338ffe1069ee286ed8ba7f6481ee/contourpy-1.2.1-cp312-cp312-win_amd64.whl.metadata\n",
      "  Downloading contourpy-1.2.1-cp312-cp312-win_amd64.whl.metadata (5.8 kB)\n",
      "Collecting cycler>=0.10 (from matplotlib)\n",
      "  Obtaining dependency information for cycler>=0.10 from https://files.pythonhosted.org/packages/e7/05/c19819d5e3d95294a6f5947fb9b9629efb316b96de511b418c53d245aae6/cycler-0.12.1-py3-none-any.whl.metadata\n",
      "  Downloading cycler-0.12.1-py3-none-any.whl.metadata (3.8 kB)\n",
      "Collecting fonttools>=4.22.0 (from matplotlib)\n",
      "  Obtaining dependency information for fonttools>=4.22.0 from https://files.pythonhosted.org/packages/56/85/0a77382e3dd8528d7f13ee97415c82b36c4879023f226e2b98d012fce077/fonttools-4.51.0-cp312-cp312-win_amd64.whl.metadata\n",
      "  Downloading fonttools-4.51.0-cp312-cp312-win_amd64.whl.metadata (162 kB)\n",
      "     ---------------------------------------- 0.0/162.8 kB ? eta -:--:--\n",
      "     -- ------------------------------------- 10.2/162.8 kB ? eta -:--:--\n",
      "     ------------- ----------------------- 61.4/162.8 kB 812.7 kB/s eta 0:00:01\n",
      "     ----------------------------------- -- 153.6/162.8 kB 1.5 MB/s eta 0:00:01\n",
      "     ------------------------------------ 162.8/162.8 kB 977.7 kB/s eta 0:00:00\n",
      "Collecting kiwisolver>=1.3.1 (from matplotlib)\n",
      "  Obtaining dependency information for kiwisolver>=1.3.1 from https://files.pythonhosted.org/packages/63/50/2746566bdf4a6a842d117367d05c90cfb87ac04e9e2845aa1fa21f071362/kiwisolver-1.4.5-cp312-cp312-win_amd64.whl.metadata\n",
      "  Downloading kiwisolver-1.4.5-cp312-cp312-win_amd64.whl.metadata (6.5 kB)\n",
      "Requirement already satisfied: numpy>=1.21 in c:\\users\\asus\\appdata\\local\\programs\\python\\python312\\lib\\site-packages (from matplotlib) (1.26.4)\n",
      "Requirement already satisfied: packaging>=20.0 in c:\\users\\asus\\appdata\\local\\programs\\python\\python312\\lib\\site-packages (from matplotlib) (24.0)\n",
      "Collecting pillow>=8 (from matplotlib)\n",
      "  Obtaining dependency information for pillow>=8 from https://files.pythonhosted.org/packages/d3/23/3927d888481ff7c44fdbca3bc2a2e97588c933db46723bf115201377c436/pillow-10.3.0-cp312-cp312-win_amd64.whl.metadata\n",
      "  Downloading pillow-10.3.0-cp312-cp312-win_amd64.whl.metadata (9.4 kB)\n",
      "Collecting pyparsing>=2.3.1 (from matplotlib)\n",
      "  Obtaining dependency information for pyparsing>=2.3.1 from https://files.pythonhosted.org/packages/9d/ea/6d76df31432a0e6fdf81681a895f009a4bb47b3c39036db3e1b528191d52/pyparsing-3.1.2-py3-none-any.whl.metadata\n",
      "  Downloading pyparsing-3.1.2-py3-none-any.whl.metadata (5.1 kB)\n",
      "Requirement already satisfied: python-dateutil>=2.7 in c:\\users\\asus\\appdata\\roaming\\python\\python312\\site-packages (from matplotlib) (2.9.0.post0)\n",
      "Requirement already satisfied: six>=1.5 in c:\\users\\asus\\appdata\\roaming\\python\\python312\\site-packages (from python-dateutil>=2.7->matplotlib) (1.16.0)\n",
      "Downloading matplotlib-3.8.4-cp312-cp312-win_amd64.whl (7.7 MB)\n",
      "   ---------------------------------------- 0.0/7.7 MB ? eta -:--:--\n",
      "   - -------------------------------------- 0.3/7.7 MB 7.7 MB/s eta 0:00:01\n",
      "   ---- ----------------------------------- 0.8/7.7 MB 8.3 MB/s eta 0:00:01\n",
      "   ------- -------------------------------- 1.4/7.7 MB 9.6 MB/s eta 0:00:01\n",
      "   ---------- ----------------------------- 2.0/7.7 MB 10.3 MB/s eta 0:00:01\n",
      "   ------------- -------------------------- 2.6/7.7 MB 10.9 MB/s eta 0:00:01\n",
      "   ---------------- ----------------------- 3.1/7.7 MB 11.1 MB/s eta 0:00:01\n",
      "   ------------------- -------------------- 3.7/7.7 MB 11.3 MB/s eta 0:00:01\n",
      "   ---------------------- ----------------- 4.3/7.7 MB 11.0 MB/s eta 0:00:01\n",
      "   ------------------------- -------------- 4.9/7.7 MB 11.2 MB/s eta 0:00:01\n",
      "   ---------------------------- ----------- 5.5/7.7 MB 11.3 MB/s eta 0:00:01\n",
      "   ----------------------------- ---------- 5.7/7.7 MB 11.3 MB/s eta 0:00:01\n",
      "   ------------------------------ --------- 5.8/7.7 MB 10.0 MB/s eta 0:00:01\n",
      "   ---------------------------------- ----- 6.6/7.7 MB 10.5 MB/s eta 0:00:01\n",
      "   ---------------------------------------  7.7/7.7 MB 11.4 MB/s eta 0:00:01\n",
      "   ---------------------------------------  7.7/7.7 MB 11.4 MB/s eta 0:00:01\n",
      "   ---------------------------------------  7.7/7.7 MB 11.4 MB/s eta 0:00:01\n",
      "   ---------------------------------------  7.7/7.7 MB 11.4 MB/s eta 0:00:01\n",
      "   ---------------------------------------  7.7/7.7 MB 11.4 MB/s eta 0:00:01\n",
      "   ---------------------------------------- 7.7/7.7 MB 8.2 MB/s eta 0:00:00\n",
      "Downloading contourpy-1.2.1-cp312-cp312-win_amd64.whl (189 kB)\n",
      "   ---------------------------------------- 0.0/189.9 kB ? eta -:--:--\n",
      "   ---------------------------------------- 189.9/189.9 kB 3.8 MB/s eta 0:00:00\n",
      "Downloading cycler-0.12.1-py3-none-any.whl (8.3 kB)\n",
      "Downloading fonttools-4.51.0-cp312-cp312-win_amd64.whl (2.2 MB)\n",
      "   ---------------------------------------- 0.0/2.2 MB ? eta -:--:--\n",
      "   -------- ------------------------------- 0.5/2.2 MB 10.0 MB/s eta 0:00:01\n",
      "   ------------------- -------------------- 1.0/2.2 MB 11.0 MB/s eta 0:00:01\n",
      "   ------------------------------ --------- 1.7/2.2 MB 11.7 MB/s eta 0:00:01\n",
      "   ---------------------------------------  2.2/2.2 MB 11.6 MB/s eta 0:00:01\n",
      "   ---------------------------------------  2.2/2.2 MB 11.6 MB/s eta 0:00:01\n",
      "   ---------------------------------------  2.2/2.2 MB 11.6 MB/s eta 0:00:01\n",
      "   ---------------------------------------- 2.2/2.2 MB 7.3 MB/s eta 0:00:00\n",
      "Downloading kiwisolver-1.4.5-cp312-cp312-win_amd64.whl (56 kB)\n",
      "   ---------------------------------------- 0.0/56.0 kB ? eta -:--:--\n",
      "   ---------------------------------------- 56.0/56.0 kB 1.5 MB/s eta 0:00:00\n",
      "Downloading pillow-10.3.0-cp312-cp312-win_amd64.whl (2.5 MB)\n",
      "   ---------------------------------------- 0.0/2.5 MB ? eta -:--:--\n",
      "   -------- ------------------------------- 0.5/2.5 MB 16.5 MB/s eta 0:00:01\n",
      "   ----------------- ---------------------- 1.1/2.5 MB 14.2 MB/s eta 0:00:01\n",
      "   -------------------------- ------------- 1.7/2.5 MB 13.4 MB/s eta 0:00:01\n",
      "   ------------------------------------ --- 2.3/2.5 MB 12.1 MB/s eta 0:00:01\n",
      "   ---------------------------------------  2.5/2.5 MB 12.4 MB/s eta 0:00:01\n",
      "   ---------------------------------------  2.5/2.5 MB 12.4 MB/s eta 0:00:01\n",
      "   ---------------------------------------  2.5/2.5 MB 12.4 MB/s eta 0:00:01\n",
      "   ---------------------------------------- 2.5/2.5 MB 7.3 MB/s eta 0:00:00\n",
      "Downloading pyparsing-3.1.2-py3-none-any.whl (103 kB)\n",
      "   ---------------------------------------- 0.0/103.2 kB ? eta -:--:--\n",
      "   ---------------------------------------  102.4/103.2 kB 5.8 MB/s eta 0:00:01\n",
      "   ---------------------------------------- 103.2/103.2 kB 1.2 MB/s eta 0:00:00\n",
      "Installing collected packages: pyparsing, pillow, kiwisolver, fonttools, cycler, contourpy, matplotlib\n",
      "Successfully installed contourpy-1.2.1 cycler-0.12.1 fonttools-4.51.0 kiwisolver-1.4.5 matplotlib-3.8.4 pillow-10.3.0 pyparsing-3.1.2\n",
      "Note: you may need to restart the kernel to use updated packages.\n"
     ]
    },
    {
     "name": "stderr",
     "output_type": "stream",
     "text": [
      "\n",
      "[notice] A new release of pip is available: 23.2.1 -> 24.0\n",
      "[notice] To update, run: python.exe -m pip install --upgrade pip\n"
     ]
    }
   ],
   "source": [
    "pip install matplotlib"
   ]
  },
  {
   "cell_type": "code",
   "execution_count": 26,
   "metadata": {
    "ExecuteTime": {
     "end_time": "2023-12-22T19:20:48.957241900Z",
     "start_time": "2023-12-22T19:20:47.256057200Z"
    },
    "collapsed": false,
    "jupyter": {
     "outputs_hidden": false
    }
   },
   "outputs": [
    {
     "data": {
      "image/png": "[encoded data removed]",
      "text/plain": [
       "<Figure size 640x480 with 1 Axes>"
      ]
     },
     "metadata": {},
     "output_type": "display_data"
    }
   ],
   "source": [
    "import pandas as pd\n",
    "import matplotlib.pyplot as plt\n",
    "\n",
    "# Создаем объект Series\n",
    "s = pd.Series([10, 20])\n",
    "plt.plot(s)\n",
    "\n",
    "\n",
    "# Визуализируем данные\n",
    "plt.show()\n"
   ]
  },
  {
   "cell_type": "markdown",
   "metadata": {
    "collapsed": false,
    "jupyter": {
     "outputs_hidden": false
    }
   },
   "source": [
    "## Задача 4: Визуализация данных из DataFrame в Pandas\n",
    "\n",
    "Используйте DataFrame, содержащий две колонки числовых данных, для создания гистограммы."
   ]
  },
  {
   "cell_type": "code",
   "execution_count": 48,
   "metadata": {
    "ExecuteTime": {
     "end_time": "2023-12-22T19:20:52.500284400Z",
     "start_time": "2023-12-22T19:20:52.343985800Z"
    },
    "collapsed": false,
    "jupyter": {
     "outputs_hidden": false
    }
   },
   "outputs": [
    {
     "data": {
      "image/png": "[encoded data removed]",
      "text/plain": [
       "<Figure size 640x480 with 1 Axes>"
      ]
     },
     "metadata": {},
     "output_type": "display_data"
    }
   ],
   "source": [
    "import pandas as pd\n",
    "import matplotlib.pyplot as plt\n",
    "\n",
    "# Создаем DataFrame\n",
    "data = {\n",
    "    'data1': [10, 12, 20, 25],\n",
    "    'data2': [15, 17, 25, 35]\n",
    "}\n",
    "df = pd.DataFrame(data)\n",
    "fig = plt.subplots()\n",
    "df['data1'].hist(color='blue')\n",
    "df['data2'].hist(color='orange')\n",
    "\n",
    "# Отображаем гистограмму\n",
    "plt.show()\n"
   ]
  },
  {
   "cell_type": "markdown",
   "metadata": {
    "collapsed": false,
    "jupyter": {
     "outputs_hidden": false
    }
   },
   "source": [
    "**Тема 7. Использование словарей и структур данных в Pandas**"
   ]
  },
  {
   "cell_type": "markdown",
   "metadata": {
    "collapsed": false,
    "jupyter": {
     "outputs_hidden": false
    }
   },
   "source": [
    "## Задача 1: Создание и манипуляция со словарями в Python для анализа данных\n",
    "\n",
    "Создайте словарь, представляющий информацию о студенте: имя, возраст, курс. Затем добавьте в словарь информацию о его специальности."
   ]
  },
  {
   "cell_type": "code",
   "execution_count": 5,
   "metadata": {
    "ExecuteTime": {
     "end_time": "2023-12-22T19:20:56.810768500Z",
     "start_time": "2023-12-22T19:20:56.761500800Z"
    },
    "collapsed": false,
    "jupyter": {
     "outputs_hidden": false
    }
   },
   "outputs": [
    {
     "name": "stdout",
     "output_type": "stream",
     "text": [
      "{'name': 'Alice', 'age': 22, 'course': 'Data Science', 'major': 'Computer Science'}\n"
     ]
    }
   ],
   "source": [
    "# Создаем словарь с информацией о студенте\n",
    "student = {\n",
    "    \"name\": \"Alice\", \"age\": 22, \n",
    "    \"course\": \"Data Science\"\n",
    "}\n",
    "\n",
    "# Добавляем специальность\n",
    "student.update({\"major\": \"Computer Science\"})\n",
    "\n",
    "# Выводим обновленный словарь\n",
    "print(student)\n"
   ]
  },
  {
   "cell_type": "markdown",
   "metadata": {
    "collapsed": false,
    "jupyter": {
     "outputs_hidden": false
    }
   },
   "source": [
    "## Задача 2: Преобразование словаря в DataFrame в Pandas\n",
    "\n",
    "Преобразуйте следующий словарь, содержащий данные о студентах, в DataFrame в Pandas:\n",
    "```python\n",
    "students_data = {\n",
    "    'Name': ['Alice', 'Bob', 'Charlie'],\n",
    "    'Age': [24, 27, 22],\n",
    "    'Major': ['Biology', 'Chemistry', 'Physics']\n",
    "}\n",
    "```"
   ]
  },
  {
   "cell_type": "code",
   "execution_count": 49,
   "metadata": {
    "ExecuteTime": {
     "end_time": "2023-12-22T19:20:58.916734100Z",
     "start_time": "2023-12-22T19:20:58.879197100Z"
    },
    "collapsed": false,
    "jupyter": {
     "outputs_hidden": false
    }
   },
   "outputs": [
    {
     "name": "stdout",
     "output_type": "stream",
     "text": [
      "      Name  Age      Major\n",
      "0    Alice   24    Biology\n",
      "1      Bob   27  Chemistry\n",
      "2  Charlie   22    Physics\n"
     ]
    }
   ],
   "source": [
    "import pandas as pd\n",
    "\n",
    "# Создаем словарь\n",
    "students_data = {\n",
    "    'Name': ['Alice', 'Bob', 'Charlie'],\n",
    "    'Age': [24, 27, 22],\n",
    "    'Major': ['Biology', 'Chemistry', 'Physics']\n",
    "}\n",
    "\n",
    "# Преобразуем словарь в DataFrame\n",
    "df = pd.DataFrame(students_data)\n",
    "\n",
    "# Выводим DataFrame\n",
    "print(df)\n"
   ]
  },
  {
   "cell_type": "markdown",
   "metadata": {
    "collapsed": false,
    "jupyter": {
     "outputs_hidden": false
    }
   },
   "source": [
    "## Задача 3: Работа со сложными структурами данных в Pandas\n",
    "\n",
    "Дан словарь с вложенными словарями, представляющими данные о продажах за разные месяцы. Преобразуйте его в DataFrame:\n",
    "```python\n",
    "sales_data = {\n",
    "    'January': {'Apples': 50, 'Oranges': 35},\n",
    "    'February': {'Apples': 40, 'Oranges': 30}\n",
    "}\n",
    "```"
   ]
  },
  {
   "cell_type": "code",
   "execution_count": 50,
   "metadata": {
    "ExecuteTime": {
     "end_time": "2023-12-22T19:21:00.572479Z",
     "start_time": "2023-12-22T19:21:00.540912800Z"
    },
    "collapsed": false,
    "jupyter": {
     "outputs_hidden": false
    }
   },
   "outputs": [
    {
     "name": "stdout",
     "output_type": "stream",
     "text": [
      "         January  February\n",
      "Apples        50        40\n",
      "Oranges       35        30\n"
     ]
    }
   ],
   "source": [
    "import pandas as pd\n",
    "\n",
    "# Создаем словарь с данными о продажах\n",
    "sales_data = {\n",
    "    'January': {'Apples': 50, 'Oranges': 35},\n",
    "    'February': {'Apples': 40, 'Oranges': 30}\n",
    "}\n",
    "\n",
    "# Преобразуем словарь в DataFrame\n",
    "df = pd.DataFrame(sales_data)\n",
    "\n",
    "# Выводим DataFrame\n",
    "print(df)\n"
   ]
  },
  {
   "cell_type": "markdown",
   "metadata": {
    "collapsed": false,
    "jupyter": {
     "outputs_hidden": false
    }
   },
   "source": [
    "## Задача 4: Агрегирование данных в DataFrame из словаря\n",
    "Формулировка задачи:\n",
    "Используя DataFrame, созданный из словаря продаж (из предыдущей задачи), рассчитайте общее количество продаж фруктов за каждый меся"
   ]
  },
  {
   "cell_type": "code",
   "execution_count": 51,
   "metadata": {
    "ExecuteTime": {
     "end_time": "2023-12-22T19:21:02.484967400Z",
     "start_time": "2023-12-22T19:21:02.452352500Z"
    },
    "collapsed": false,
    "jupyter": {
     "outputs_hidden": false
    }
   },
   "outputs": [
    {
     "name": "stdout",
     "output_type": "stream",
     "text": [
      "January     85\n",
      "February    70\n",
      "dtype: int64\n"
     ]
    }
   ],
   "source": [
    "import pandas as pd\n",
    "\n",
    "# Создаем DataFrame из словаря продаж\n",
    "sales_data = {\n",
    "    'January': {'Apples': 50, 'Oranges': 35},\n",
    "    'February': {'Apples': 40, 'Oranges': 30}\n",
    "}\n",
    "df = pd.DataFrame(sales_data)\n",
    "\n",
    "# Рассчитываем общее количество продаж за каждый месяц\n",
    "total_sales = df.sum()\n",
    "\n",
    "# Выводим результат\n",
    "print(total_sales)\n"
   ]
  },
  {
   "cell_type": "markdown",
   "metadata": {
    "collapsed": false,
    "jupyter": {
     "outputs_hidden": false
    }
   },
   "source": [
    "**Тема 8. Работа с файлами для анализа данных**"
   ]
  },
  {
   "cell_type": "markdown",
   "metadata": {
    "collapsed": false,
    "jupyter": {
     "outputs_hidden": false
    }
   },
   "source": [
    "## Задача 1: Чтение и запись текстового файла в Python\n",
    "\n",
    "Создайте текстовый файл и запишите в него несколько строк. Затем прочитайте файл и выведите его содержимое на экран."
   ]
  },
  {
   "cell_type": "code",
   "execution_count": 9,
   "metadata": {
    "collapsed": false,
    "jupyter": {
     "outputs_hidden": false
    }
   },
   "outputs": [
    {
     "name": "stdout",
     "output_type": "stream",
     "text": [
      "Hello World\n"
     ]
    }
   ],
   "source": [
    "# Записываем данные в файл\n",
    "with open(\"a.txt\", \"w\") as file:\n",
    "    text = \"Hello World\"\n",
    "    file.write(text)\n",
    "\n",
    "# Читаем данные из файла\n",
    "with open(\"a.txt\") as file:\n",
    "    inner = file.read()\n",
    "\n",
    "# Выводим содержимое файла\n",
    "print(inner)\n"
   ]
  },
  {
   "cell_type": "markdown",
   "metadata": {
    "collapsed": false,
    "jupyter": {
     "outputs_hidden": false
    }
   },
   "source": [
    "## Задача 2: Использование Pandas для чтения и записи CSV-файла\n",
    "\n",
    "Используйте Pandas для чтения данных из CSV-файла, а затем сохраните эти данные в новый CSV-файл."
   ]
  },
  {
   "cell_type": "code",
   "execution_count": 53,
   "metadata": {
    "collapsed": false,
    "jupyter": {
     "outputs_hidden": false
    }
   },
   "outputs": [
    {
     "name": "stdout",
     "output_type": "stream",
     "text": [
      "   id                           photo title big_text small_text\n",
      "0   1  static/2024-04-18_14-30-48.png   xcb       cv         xv\n"
     ]
    }
   ],
   "source": [
    "import pandas as pd\n",
    "\n",
    "# Чтение данных из CSV-файла\n",
    "df = pd.read_csv('2024-04-20_15-42-16.csv')\n",
    "\n",
    "# Выводим прочитанные данные\n",
    "print(df)\n",
    "\n",
    "# Сохраняем данные в новый CSV-файл\n",
    "df.to_csv('a.csv', index=False)\n"
   ]
  },
  {
   "cell_type": "markdown",
   "metadata": {
    "collapsed": false,
    "jupyter": {
     "outputs_hidden": false
    }
   },
   "source": [
    "## Задача 3: Чтение JSON-файла с Pandas\n",
    "\n",
    "Используйте Pandas для чтения данных из JSON-файла и выведите эти данные."
   ]
  },
  {
   "cell_type": "code",
   "execution_count": 65,
   "metadata": {
    "collapsed": false,
    "jupyter": {
     "outputs_hidden": false
    },
    "scrolled": true
   },
   "outputs": [
    {
     "name": "stdout",
     "output_type": "stream",
     "text": [
      "   0\n",
      "0  1\n",
      "1  2\n",
      "2  3\n",
      "3  4\n"
     ]
    }
   ],
   "source": [
    "import json\n",
    "import pandas as pd\n",
    "\n",
    "\n",
    "with open(\"test.json\", \"w\") as file:\n",
    "    data = [1, 2, 3, 4]\n",
    "    json.dump(data, file)\n",
    "\n",
    "# Чтение данных из JSON-файла\n",
    "df = pd.read_json(\"test.json\")\n",
    "\n",
    "# Выводим прочитанные данные\n",
    "print(df)\n"
   ]
  },
  {
   "cell_type": "markdown",
   "metadata": {
    "collapsed": false,
    "jupyter": {
     "outputs_hidden": false
    }
   },
   "source": [
    "## Задача 4: Чтение Excel-файла с Pandas\n",
    "\n",
    "Используйте Pandas для чтения данных из Excel-файла (.xlsx) и выведите эти данные."
   ]
  },
  {
   "cell_type": "code",
   "execution_count": 3,
   "metadata": {},
   "outputs": [
    {
     "name": "stdout",
     "output_type": "stream",
     "text": [
      "Collecting openpyxl\n",
      "  Obtaining dependency information for openpyxl from https://files.pythonhosted.org/packages/6a/94/a59521de836ef0da54aaf50da6c4da8fb4072fb3053fa71f052fd9399e7a/openpyxl-3.1.2-py2.py3-none-any.whl.metadata\n",
      "  Downloading openpyxl-3.1.2-py2.py3-none-any.whl.metadata (2.5 kB)\n",
      "Collecting et-xmlfile (from openpyxl)\n",
      "  Obtaining dependency information for et-xmlfile from https://files.pythonhosted.org/packages/96/c2/3dd434b0108730014f1b96fd286040dc3bcb70066346f7e01ec2ac95865f/et_xmlfile-1.1.0-py3-none-any.whl.metadata\n",
      "  Downloading et_xmlfile-1.1.0-py3-none-any.whl.metadata (1.8 kB)\n",
      "Downloading openpyxl-3.1.2-py2.py3-none-any.whl (249 kB)\n",
      "   ---------------------------------------- 0.0/250.0 kB ? eta -:--:--\n",
      "   ---------------------------------------- 0.0/250.0 kB ? eta -:--:--\n",
      "   ---- ---------------------------------- 30.7/250.0 kB 660.6 kB/s eta 0:00:01\n",
      "   ------------------ --------------------- 112.6/250.0 kB 1.1 MB/s eta 0:00:01\n",
      "   ---------------------------------------  245.8/250.0 kB 2.2 MB/s eta 0:00:01\n",
      "   ---------------------------------------- 250.0/250.0 kB 1.4 MB/s eta 0:00:00\n",
      "Downloading et_xmlfile-1.1.0-py3-none-any.whl (4.7 kB)\n",
      "Installing collected packages: et-xmlfile, openpyxl\n",
      "Successfully installed et-xmlfile-1.1.0 openpyxl-3.1.2\n",
      "Note: you may need to restart the kernel to use updated packages.\n"
     ]
    },
    {
     "name": "stderr",
     "output_type": "stream",
     "text": [
      "\n",
      "[notice] A new release of pip is available: 23.2.1 -> 24.0\n",
      "[notice] To update, run: python.exe -m pip install --upgrade pip\n"
     ]
    }
   ],
   "source": [
    "pip install openpyxl"
   ]
  },
  {
   "cell_type": "code",
   "execution_count": 68,
   "metadata": {
    "collapsed": false,
    "jupyter": {
     "outputs_hidden": false
    }
   },
   "outputs": [
    {
     "name": "stdout",
     "output_type": "stream",
     "text": [
      "     Name  Age             City\n",
      "0    Oleg   15             Omsk\n",
      "1    Ivan   30           Moscow\n",
      "2  Alexey   45  Saint-Peterburg\n"
     ]
    }
   ],
   "source": [
    "import pandas as pd\n",
    "\n",
    "data = {\n",
    "    'Name': ['Oleg', 'Ivan', 'Alexey'],\n",
    "    'Age': [15, 30, 45],\n",
    "    'City': ['Omsk', 'Moscow', 'Saint-Peterburg']\n",
    "}\n",
    "df = pd.DataFrame(data)\n",
    "df.to_excel(\"test.xlsx\", index=False)\n",
    "\n",
    "# Чтение данных из Excel-файла\n",
    "df = pd.read_excel(\"test.xlsx\")\n",
    "\n",
    "# Выводим прочитанные данные\n",
    "print(df)\n"
   ]
  }
 ],
 "metadata": {
  "kernelspec": {
   "display_name": "Python 3 (ipykernel)",
   "language": "python",
   "name": "python3"
  },
  "language_info": {
   "codemirror_mode": {
    "name": "ipython",
    "version": 3
   },
   "file_extension": ".py",
   "mimetype": "text/x-python",
   "name": "python",
   "nbconvert_exporter": "python",
   "pygments_lexer": "ipython3",
   "version": "3.12.0"
  }
 },
 "nbformat": 4,
 "nbformat_minor": 4
}
